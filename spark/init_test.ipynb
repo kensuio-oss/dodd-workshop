{
 "cells": [
  {
   "cell_type": "code",
   "execution_count": 1,
   "metadata": {},
   "outputs": [],
   "source": [
    "%%init_spark\n",
    "launcher.jars = [\"./pyspark/libs/kensu-dam-spark-collector-0.17.2_spark-3.0.1.jar\"]"
   ]
  },
  {
   "cell_type": "code",
   "execution_count": 2,
   "metadata": {},
   "outputs": [
    {
     "data": {
      "text/plain": [
       "Intitializing Scala interpreter ..."
      ]
     },
     "metadata": {},
     "output_type": "display_data"
    },
    {
     "data": {
      "text/plain": [
       "Spark Web UI available at http://jupyter-kensuio-2doss-2ddodd-2dworkshop-2dnnz74p8a:4040\n",
       "SparkContext available as 'sc' (version = 3.0.1, master = local[*], app id = local-1636118680873)\n",
       "SparkSession available as 'spark'\n"
      ]
     },
     "metadata": {},
     "output_type": "display_data"
    },
    {
     "data": {
      "text/plain": [
       "properties: scala.collection.mutable.Map[String,Any] = Map(dam.activity.spark.environnement.provider -> io.kensu.dam.lineage.spark.lineage.DefaultSparkEnvironnementProvider, dam.activity.code.repository -> binder://workshop-dodd, dam.activity.organization -> Unknown, dam.activity.explicit.process.name -> taratata, dam.spark.data_stats.input.only_used_in_lineage -> true, dam.spark.file_debug.file_name -> debug.log, dam.datasources.path_rules.short.naming_strategy -> \"\", dam.activity.explicit.process_run.name -> taratata, dam.spark.data_stats.enabled -> true, dam.spark.data_stats.output.coalesceEnabled -> false, dam.ingestion.is_offline -> false, dam.ingestion.entity.compaction -> true, dam.activity.user -> jovyan, dam.ingestion.auth.token -> eyJhbGciOiJIUzI1NiJ9.eyIkaW50X3Blcm1zIjpbXSwic...\n"
      ]
     },
     "execution_count": 2,
     "metadata": {},
     "output_type": "execute_result"
    }
   ],
   "source": [
    "val properties = {\n",
    "    import scala.collection.JavaConverters._\n",
    "    val p = new java.util.Properties()\n",
    "    p.load(new java.io.FileInputStream(\"./application.properties\"))\n",
    "    val m = scala.collection.mutable.Map.empty[String, Any]\n",
    "    m++=p.asScala\n",
    "    m\n",
    "}\n",
    "val dam_url = \"\"\n",
    "val token = \"\"\n",
    "val processName = \"taratata\"\n",
    "val mocked_timestamp = System.currentTimeMillis\n",
    "\n",
    "properties.put(\"dam.ingestion.auth.token\", token)\n",
    "properties.put(\"dam.activity.code.maintainers\", List(sys.env(\"USER\")))\n",
    "properties.put(\"dam.activity.code.version\", System.currentTimeMillis)\n",
    "properties.put(\"dam.activity.user\", sys.env(\"USER\"))\n",
    "properties.put(\"dam.activity.organization\", \"Unknown\")\n",
    "properties.put(\"dam.activity.projects\", properties(\"dam.activity.projects\").toString.split(\",\"))\n",
    "properties.put(\"dam.activity.explicit.process.name\", processName)\n",
    "properties.put(\"dam.activity.explicit.process_run.name\", processName)"
   ]
  },
  {
   "cell_type": "code",
   "execution_count": 3,
   "metadata": {},
   "outputs": [],
   "source": [
    "io.kensu.third.integration.TimeUtils.setMockedTime(mocked_timestamp, false)"
   ]
  },
  {
   "cell_type": "code",
   "execution_count": 4,
   "metadata": {},
   "outputs": [
    {
     "name": "stdout",
     "output_type": "stream",
     "text": [
      "Start terminating DAM events reporting actor-system...\n",
      "Awaiting for DAM events reporting to finish\n",
      "DAM events reporting finished\n",
      "Flushing outputs if any\n",
      "Flushing outputs done (if any)\n",
      "Closing resources\n",
      "Closing resources done\n",
      "Creating a new DAM scala client actor-system\n",
      "Done creating a new DAM scala client actor-system.\n",
      "DAM scala client actor-system terminated\n"
     ]
    }
   ],
   "source": [
    "io.kensu.third.integration.spline.DamClientActorSystem.destroyActorSystem(scala.concurrent.duration.Duration(30, \"second\"))"
   ]
  },
  {
   "cell_type": "code",
   "execution_count": 5,
   "metadata": {},
   "outputs": [
    {
     "name": "stdout",
     "output_type": "stream",
     "text": [
      "maybeDamFileDebugLevel: Some(DEBUG)\n",
      "Activating DAM debug logging to file: debug.log\n",
      "Done activating DAM debug logging to a file\n"
     ]
    },
    {
     "ename": "java.lang.IllegalStateException",
     "evalue": " cannot create children while terminating or terminated",
     "output_type": "error",
     "traceback": [
      "java.lang.IllegalStateException: cannot create children while terminating or terminated",
      "  at shadeio.kensu.akka.actor.dungeon.Children.makeChild(Children.scala:270)",
      "  at shadeio.kensu.akka.actor.dungeon.Children.attachChild(Children.scala:48)",
      "  at shadeio.kensu.akka.actor.dungeon.Children.attachChild$(Children.scala:47)",
      "  at shadeio.kensu.akka.actor.ActorCell.attachChild(ActorCell.scala:370)",
      "  at shadeio.kensu.akka.actor.ActorSystemImpl.actorOf(ActorSystem.scala:718)",
      "  at shadeio.kensu.akka.stream.ActorMaterializer$.apply(ActorMaterializer.scala:65)",
      "  at shadeio.kensu.akka.stream.ActorMaterializer$.apply(ActorMaterializer.scala:43)",
      "  at io.swagger.client.core.ApiInvoker.<init>(ApiInvoker.scala:178)",
      "  at io.swagger.client.core.ApiInvoker$$anon$1.<init>(ApiInvoker.scala:56)",
      "  at io.swagger.client.core.ApiInvoker$.createDefaultInvokerWithForcedHeaders(ApiInvoker.scala:56)",
      "  at io.kensu.third.integration.spline.DAMClientFactory$.createApiInvoker(DAMClientFactory.scala:72)",
      "  at io.kensu.third.integration.spline.DAMClientFactory$.getDAMClient(DAMClientFactory.scala:51)",
      "  at io.kensu.third.integration.spline.DAMLineageDispatcher.<init>(DAMDataLineageWriter.scala:150)",
      "  at io.kensu.dam.lineage.spark.lineage.DamSplineConfigurer.lineageDispatcher$lzycompute(LineageImplicits.scala:320)",
      "  at io.kensu.dam.lineage.spark.lineage.DamSplineConfigurer.lineageDispatcher(LineageImplicits.scala:320)",
      "  at io.kensu.dam.lineage.spark.lineage.DamSplineConfigurer.queryExecutionEventHandler(LineageImplicits.scala:323)",
      "  at io.kensu.dam.lineage.spark.lineage.Implicits$SparkSessionDAMWrapper.track(LineageImplicits.scala:290)",
      "  ... 37 elided",
      ""
     ]
    }
   ],
   "source": [
    "val w = io.kensu.dam.lineage.spark.lineage.Implicits.SparkSessionDAMWrapper(spark)\n",
    "w.track(Some(dam_url), None)(properties.toList:_*)"
   ]
  },
  {
   "cell_type": "code",
   "execution_count": null,
   "metadata": {},
   "outputs": [],
   "source": []
  }
 ],
 "metadata": {
  "kernelspec": {
   "display_name": "spylon-kernel",
   "language": "scala",
   "name": "spylon-kernel"
  },
  "language_info": {
   "codemirror_mode": "text/x-scala",
   "file_extension": ".scala",
   "help_links": [
    {
     "text": "MetaKernel Magics",
     "url": "https://metakernel.readthedocs.io/en/latest/source/README.html"
    }
   ],
   "mimetype": "text/x-scala",
   "name": "scala",
   "pygments_lexer": "scala",
   "version": "0.4.1"
  }
 },
 "nbformat": 4,
 "nbformat_minor": 5
}
