{
 "cells": [
  {
   "cell_type": "code",
   "execution_count": 1,
   "id": "884aa7c3",
   "metadata": {},
   "outputs": [],
   "source": [
    "%%init_spark\n",
    "launcher.jars = [\"libs/kensu-dam-spark-collector-0.17.2_spark-3.0.1.jar\",\"libs/sdk_2.12.jar\"]\n",
    "launcher.conf.set(\"spark.sql.shuffle.partitions\", \"1\")"
   ]
  },
  {
   "cell_type": "code",
   "execution_count": 2,
   "id": "111fcdf3-55dd-430f-9534-74b9210e1942",
   "metadata": {},
   "outputs": [
    {
     "data": {
      "text/plain": [
       "Intitializing Scala interpreter ..."
      ]
     },
     "metadata": {},
     "output_type": "display_data"
    },
    {
     "data": {
      "text/plain": [
       "Spark Web UI available at http://jupyter-kensuio-2doss-2ddodd-2dworkshop-2d4tngjcu1:4040\n",
       "SparkContext available as 'sc' (version = 3.0.1, master = local[*], app id = local-1636383299915)\n",
       "SparkSession available as 'spark'\n"
      ]
     },
     "metadata": {},
     "output_type": "display_data"
    },
    {
     "name": "stdout",
     "output_type": "stream",
     "text": [
      "maybeDamFileDebugLevel: Some(INFO)\n",
      "Activating DAM debug logging to file: debug.log\n",
      "Done activating DAM debug logging to a file\n",
      "Creating a new DAM scala client actor-system\n",
      "Done creating a new DAM scala client actor-system.\n"
     ]
    },
    {
     "data": {
      "text/plain": [
       "week: String = week1\n",
       "ch: io.kensu.dodd.sdk.ConnectHelper = io.kensu.dodd.sdk.ConnectHelper@2f1948f1\n",
       "dataFolder: String = \"dataSammy \"\n",
       "sdk: io.kensu.dodd.sdk.SDK = io.kensu.dodd.sdk.SDK@6661f287\n"
      ]
     },
     "execution_count": 2,
     "metadata": {},
     "output_type": "execute_result"
    }
   ],
   "source": [
    "val week = \"week1\"\n",
    "implicit val ch = new io.kensu.dodd.sdk.ConnectHelper(s\"./conf/application1-$week.properties\")\n",
    "val dataFolder = \"data\"+ch.properties(\"dam.activity.user\").toString\n",
    "io.kensu.third.integration.TimeUtils.setMockedTime(ch.properties(\"mocked.timestamp\").asInstanceOf[Long], false)\n",
    "io.kensu.dam.lineage.spark.lineage.Implicits.SparkSessionDAMWrapper(spark).track(ch.properties.get(\"dam.ingestion.url\").map(_.toString), None)(ch.properties.toList:_*)\n",
    "val sdk = new io.kensu.dodd.sdk.SDK(ch.properties(\"kensu.sdk.url\").toString, ch.properties(\"kensu.pat\").toString)"
   ]
  },
  {
   "cell_type": "code",
   "execution_count": 3,
   "id": "8a49ed9a",
   "metadata": {},
   "outputs": [
    {
     "data": {
      "text/plain": [
       "allRules: org.json4s.JObject = JObject(List((data,JArray(List(JObject(List((uuid,JString(02ab03b4-e3d1-48d1-ae44-bde4c614011c)), (environment,JString(Production)), (fieldName,JString()), (functionName,JString(Frequency)), (entityType,JString(DATA_STATS)), (arguments,JObject(List((timeLapse,JInt(1)), (expiresAt,JInt(1615849207200)), (timeLapseUnit,JString(Days))))), (setBy,JString(USER)), (isDeleted,JBool(false)), (isTracked,JBool(true)), (isLogical,JBool(true)), (creationTimestamp,JString(2021-09-20T16:02:46.497Z)), (datasource,JObject(List((id,JString(467747eb-4da8-4fab-80e1-47c4ede39ac1)), (name,JString(Recommendations Table))))), (project,JObject(List((id,JString(k-0c316854fa0c531a708e63646c773646b86566799fb6ffd1090e0eeaea5ae15f)), (name,JString(Recommendation Pipeline))))), (process...\n"
      ]
     },
     "execution_count": 3,
     "metadata": {},
     "output_type": "execute_result"
    }
   ],
   "source": [
    "val allRules = sdk.getRules()"
   ]
  },
  {
   "cell_type": "code",
   "execution_count": 46,
   "id": "39f60bda-25d0-4d31-b8bd-74d3b0d5f8a9",
   "metadata": {},
   "outputs": [
    {
     "data": {
      "text/plain": [
       "rule: sdk.Rule = (Range,Map(minVal -> 3))\n"
      ]
     },
     "execution_count": 46,
     "metadata": {},
     "output_type": "execute_result"
    }
   ],
   "source": [
    "val rule = sdk.range(Some(3),None)"
   ]
  },
  {
   "cell_type": "code",
   "execution_count": 45,
   "id": "8fa958d9-98cd-4658-aaa5-b0c95419893f",
   "metadata": {},
   "outputs": [],
   "source": [
    "sdk.addRule(\"trial\",\"id.nullrows\",(\"Range\", Map(\"minVal\" -> 0, \"maxVal\" -> 1000)))"
   ]
  },
  {
   "cell_type": "code",
   "execution_count": 20,
   "id": "032dbacb-09f0-4f7e-acfd-96626c893152",
   "metadata": {},
   "outputs": [
    {
     "data": {
      "text/plain": [
       "import _root_.io.kensu.dam.model._\n"
      ]
     },
     "execution_count": 20,
     "metadata": {},
     "output_type": "execute_result"
    }
   ],
   "source": [
    "import _root_.io.kensu.dam.model._"
   ]
  },
  {
   "cell_type": "code",
   "execution_count": 24,
   "id": "b34390ff-25ff-4c0c-a884-037787bbe4b0",
   "metadata": {},
   "outputs": [
    {
     "data": {
      "text/plain": [
       "env: String = workshop\n"
      ]
     },
     "execution_count": 24,
     "metadata": {},
     "output_type": "execute_result"
    }
   ],
   "source": [
    "val env: String = ch.properties(\"dam.activity.environment\").toString"
   ]
  },
  {
   "cell_type": "code",
   "execution_count": 37,
   "id": "1541723d-083b-4874-8928-b4ee356e3414",
   "metadata": {},
   "outputs": [
    {
     "data": {
      "text/plain": [
       "res12: String = k-013aba01970ed8c2403612ac8094bf79fd04415890777d6d9d7e13238fe6834c\n"
      ]
     },
     "execution_count": 37,
     "metadata": {},
     "output_type": "execute_result"
    }
   ],
   "source": [
    "projectId"
   ]
  },
  {
   "cell_type": "code",
   "execution_count": 33,
   "id": "71b7f25d-71c0-479c-95c3-cd87254cff3d",
   "metadata": {},
   "outputs": [
    {
     "data": {
      "text/plain": [
       "import org.json4s._\n",
       "import org.json4s._\n"
      ]
     },
     "execution_count": 33,
     "metadata": {},
     "output_type": "execute_result"
    }
   ],
   "source": [
    "import org.json4s._\n",
    "import org.json4s._"
   ]
  },
  {
   "cell_type": "code",
   "execution_count": 34,
   "id": "49310ce9-75d8-4dcb-a44a-a5358fca900b",
   "metadata": {},
   "outputs": [
    {
     "data": {
      "text/plain": [
       "ldsId: String = logical-data-source-trial\n"
      ]
     },
     "execution_count": 34,
     "metadata": {},
     "output_type": "execute_result"
    }
   ],
   "source": [
    "val ldsId = ((lineages \\ \"data\" \\ \"nodes\" \\ \"datasource\").filter(_ \\ \"name\" == JString(\"trial\")).head \\ \"id\").values.toString"
   ]
  },
  {
   "cell_type": "code",
   "execution_count": 35,
   "id": "26a8f0af-5011-4c23-9351-9908eac55873",
   "metadata": {},
   "outputs": [
    {
     "data": {
      "text/plain": [
       "lineageIds: List[String] = List(JString(k-8baa873c8cc710c66141363daae4d2125d8f38eac2c428b4644870b50f3a8d09), JString(k-fb14d6038c0aff5d96dbf786327c618018366d4fe0a6d42b0ad9178a26f6cdd1), JString(k-a030ab34da8606f70b7a6cd3e2c0adeb170e39c43bf0ac9b9d2f1ad601f9d9f7))\n"
      ]
     },
     "execution_count": 35,
     "metadata": {},
     "output_type": "execute_result"
    }
   ],
   "source": [
    "val lineageIds = (lineages \\ \"data\" \\ \"links\").filter(l => l \\ \"sourceDatasourceId\" == JString(ldsId) || l \\ \"targetDatasourceId\" == JString(ldsId)).map(_ \\ \"lineage\" \\ \"id\").map(_.toString)"
   ]
  },
  {
   "cell_type": "code",
   "execution_count": 19,
   "id": "40d50376-5e4c-4693-8465-75024f0f2402",
   "metadata": {},
   "outputs": [
    {
     "ename": "<console>",
     "evalue": "33: error: not found: value JString",
     "output_type": "error",
     "traceback": [
      "<console>:33: error: not found: value JString",
      "       val ldsId = ((lineages \\ \"data\" \\ \"nodes\" \\ \"datasource\").filter(_ \\ \"name\" == JString(dsName)).head \\ \"id\").values.toString",
      "                                                                                      ^",
      "<console>:33: error: not found: value dsName",
      "       val ldsId = ((lineages \\ \"data\" \\ \"nodes\" \\ \"datasource\").filter(_ \\ \"name\" == JString(dsName)).head \\ \"id\").values.toString",
      "                                                                                              ^",
      "<console>:34: error: not found: value JString",
      "       val lineageIds = (lineages \\ \"data\" \\ \"links\").filter(l => l \\ \"sourceDatasourceId\" == JString(ldsId) || l \\ \"targetDatasourceId\" == JString(ldsId)).map(_ \\ \"lineage\" \\ \"id\").map(_.toString)",
      "                                                                                              ^",
      "<console>:34: error: not found: value JString",
      "       val lineageIds = (lineages \\ \"data\" \\ \"links\").filter(l => l \\ \"sourceDatasourceId\" == JString(ldsId) || l \\ \"targetDatasourceId\" == JString(ldsId)).map(_ \\ \"lineage\" \\ \"id\").map(_.toString)",
      "                                                                                                                                            ^",
      ""
     ]
    }
   ],
   "source": [
    "import _root_.io.kensu.dam.model._\n",
    "val projectId:String = ProjectPK(ch.properties(\"dam.activity.projects\").asInstanceOf[Array[String]].head).guid\n",
    "val processId: String = ProcessPK(ch.properties(\"dam.activity.explicit.process.name\").toString).guid\n",
    "val env: String = ch.properties(\"dam.activity.environment\").toString\n",
    "val codeVersion: String = CodeVersionPK(ch.properties(\"dam.activity.code.version\").toString, CodeBaseRef(byPK=None, byGUID=Some(CodeBasePK(ch.properties(\"dam.activity.code.repository\").toString).guid))).guid\n",
    "val lineages = sdk.getLineagesInProject(projectId, processId, env, codeVersion)\n",
    "val ldsId = ((lineages \\ \"data\" \\ \"nodes\" \\ \"datasource\").filter(_ \\ \"name\" == JString(dsName)).head \\ \"id\").values.toString\n",
    "val lineageIds = (lineages \\ \"data\" \\ \"links\").filter(l => l \\ \"sourceDatasourceId\" == JString(ldsId) || l \\ \"targetDatasourceId\" == JString(ldsId)).map(_ \\ \"lineage\" \\ \"id\").map(_.toString)\n",
    "lineageIds.foreach { lineageId =>\n",
    "    sdk.createRule(ldsId, lineageId, projectId, processId, env, fieldName, rule)\n",
    "}"
   ]
  },
  {
   "cell_type": "code",
   "execution_count": 42,
   "id": "7c881dbf-e218-4f22-941e-d01fb6e2cd84",
   "metadata": {},
   "outputs": [
    {
     "data": {
      "text/plain": [
       "res15: sdk.Rule = (Range,Map(minVal -> 3, maxVal -> 4))\n"
      ]
     },
     "execution_count": 42,
     "metadata": {},
     "output_type": "execute_result"
    }
   ],
   "source": [
    "sdk.range(Some(3),Some(4))"
   ]
  },
  {
   "cell_type": "code",
   "execution_count": null,
   "id": "ef2cae4a",
   "metadata": {},
   "outputs": [],
   "source": [
    "def dsRules = (sdk.getRulesForDs(\n",
    "    \"logical-data-source-joined_data\",\n",
    "    \"k-2a8a077a91f490348a95cbcb6d524e7c232ee4abe935cc68d25f01ea5980cdac\",\n",
    "    \"k-ddc546028d6968a8b747d2b417d79c6d2ef650911422aa40a3283ea1492e4d57\",\n",
    "    \"workshop\"\n",
    ") \\ \"data\" \\ \"predicates\").asInstanceOf[org.json4s.JArray]\n",
    "dsRules"
   ]
  },
  {
   "cell_type": "code",
   "execution_count": null,
   "id": "09c01960",
   "metadata": {},
   "outputs": [],
   "source": [
    "val r = dsRules\n",
    "if (r.values.size != 0) {\n",
    "    // delete has issues...\n",
    "    // sdk.deleteRule((r \\\\ \"uuid\").values.toString)\n",
    "}"
   ]
  },
  {
   "cell_type": "code",
   "execution_count": null,
   "id": "c94a803d",
   "metadata": {},
   "outputs": [],
   "source": [
    "dsRules"
   ]
  },
  {
   "cell_type": "code",
   "execution_count": null,
   "id": "f88088c7",
   "metadata": {},
   "outputs": [],
   "source": [
    "sdk.createRule(\n",
    "    \"logical-data-source-joined_data\",\n",
    "    \"k-2a8a077a91f490348a95cbcb6d524e7c232ee4abe935cc68d25f01ea5980cdac\",\n",
    "    \"k-ddc546028d6968a8b747d2b417d79c6d2ef650911422aa40a3283ea1492e4d57\",\n",
    "    \"k-ddb97a5623d591997c7e8b83caa660f2509958106614f2d3e5905d726f1a94d5\",\n",
    "    \"workshop\",\n",
    "    \"price.mean\",\n",
    "    (\"Range\", Map(\"minVal\" -> 0, \"maxVal\" -> 1000))\n",
    ")"
   ]
  },
  {
   "cell_type": "code",
   "execution_count": null,
   "id": "d3cc503e",
   "metadata": {},
   "outputs": [],
   "source": [
    "dsRules"
   ]
  },
  {
   "cell_type": "code",
   "execution_count": null,
   "id": "a7cbf908",
   "metadata": {},
   "outputs": [],
   "source": [
    "sdk.updateRule(\n",
    "    (dsRules \\\\ \"uuid\").values.toString,\n",
    "    (\"Range\", Map(\"minVal\" -> 100, \"maxVal\" -> 1000))\n",
    ")"
   ]
  },
  {
   "cell_type": "code",
   "execution_count": null,
   "id": "fd45957d",
   "metadata": {},
   "outputs": [],
   "source": [
    "dsRules"
   ]
  }
 ],
 "metadata": {
  "kernelspec": {
   "display_name": "spylon-kernel",
   "language": "scala",
   "name": "spylon-kernel"
  },
  "language_info": {
   "codemirror_mode": "text/x-scala",
   "file_extension": ".scala",
   "help_links": [
    {
     "text": "MetaKernel Magics",
     "url": "https://metakernel.readthedocs.io/en/latest/source/README.html"
    }
   ],
   "mimetype": "text/x-scala",
   "name": "scala",
   "pygments_lexer": "scala",
   "version": "0.4.1"
  }
 },
 "nbformat": 4,
 "nbformat_minor": 5
}
