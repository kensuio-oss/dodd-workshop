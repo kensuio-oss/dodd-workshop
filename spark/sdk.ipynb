{
 "cells": [
  {
   "cell_type": "code",
   "execution_count": null,
   "metadata": {},
   "outputs": [],
   "source": [
    "%%init_spark\n",
    "launcher.jars = [\"libs/kensu-dam-spark-collector-0.17.2_spark-3.0.1.jar\"]\n",
    "launcher.conf.set(\"spark.sql.shuffle.partitions\", \"1\")"
   ]
  },
  {
   "cell_type": "code",
   "execution_count": null,
   "metadata": {},
   "outputs": [],
   "source": [
    "import org.apache.http._\n",
    "import org.apache.http.client.methods._\n",
    "import org.apache.http.entity._\n",
    "import org.apache.http.impl.client._\n",
    "import org.apache.http.util._\n",
    "import org.json4s._\n",
    "import org.json4s.jackson.JsonMethods._\n",
    "import org.json4s.jackson.Serialization\n",
    "\n",
    "class SDK(url: String, pat: String) {\n",
    "    val httpCookieStore = new BasicCookieStore()\n",
    "    val builder = HttpClientBuilder.create().setDefaultCookieStore(httpCookieStore)\n",
    "    implicit val formats = org.json4s.DefaultFormats        \n",
    "\n",
    "    // cookie PAT\n",
    "    val httpClient = builder.build();\n",
    "    val request = new HttpPost(url+\"/api/auth/callback?client_name=ExternalAppTokenClient\");\n",
    "    request.addHeader(\"X-External-App-Token\", pat)\n",
    "    httpClient.execute(request)\n",
    "    httpClient.close\n",
    "\n",
    "    def getJson(response: HttpResponse) = {\n",
    "        val entity = response.getEntity\n",
    "        val json = EntityUtils.toString(entity, java.nio.charset.StandardCharsets.UTF_8)\n",
    "        parse(json).asInstanceOf[org.json4s.JObject]\n",
    "    }\n",
    "    \n",
    "    def send(method:String, path: String, payload:Option[Map[String, Any]] = None, json: Boolean = true) = {\n",
    "        val httpClient = builder.build()\n",
    "        val urlPath = s\"$url$path\"\n",
    "        val r = try {\n",
    "            val request = if (method == \"GET\") {\n",
    "                new HttpGet(urlPath)\n",
    "            } else if (method == \"DELETE\") {\n",
    "                new HttpDelete(urlPath)\n",
    "            } else {\n",
    "                val r = method match {\n",
    "                    case \"POST\" => new HttpPost(urlPath)\n",
    "                    case \"PUT\" => new HttpPut(urlPath)\n",
    "                }\n",
    "                payload.foreach { p =>\n",
    "                    r.setHeader(\"Content-type\", \"application/json\")\n",
    "                    val stringEntity = new StringEntity(Serialization.write(p));\n",
    "                    r.setEntity(stringEntity)\n",
    "                }\n",
    "                r\n",
    "            }\n",
    "            val response = httpClient.execute(request)\n",
    "            if (json) getJson(response) else org.json4s.JObject()\n",
    "        } finally { httpClient.close }\n",
    "        r \n",
    "    }\n",
    "    \n",
    "    def getLineagesInProject(project: String, process: String, env: String, cv: String) = \n",
    "        send(\"GET\", s\"/business/api/views/v1/project-catalog/process/data-flow?projectId=$project&processId=$process&logical=true&environment=$env&codeVersionId=$cv\")\n",
    "    def getRules() = send(\"GET\", \"/business/api/views/v1/predicate-catalog\")\n",
    "    def getRulesForDs(ds_id: String, lineage_id: String, project_id: String, env: String) = \n",
    "        send(\"GET\", s\"/business/api/v1/performance/data/$ds_id/$lineage_id?projectId=$project_id&logical=true&environment=$env\")\n",
    "    def createRule(lds_id: String, lineage_id: String, project_id: String, process_id: String, env_name: String, field_name: String, fun: (String, Map[String, Any])) = \n",
    "        send(\"POST\", \"/business/api/v1/predicates\", Some(Map(\n",
    "                                                \"context\" -> \"DATA_STATS\",\n",
    "                                                \"datasourceId\" -> lds_id,\n",
    "                                                \"lineageId\" -> lineage_id,\n",
    "                                                \"projectId\" -> project_id,\n",
    "                                                \"processId\" -> process_id,\n",
    "                                                \"environment\" -> env_name,\n",
    "                                                \"isLogical\" -> true,\n",
    "                                                \"fieldName\" -> field_name,\n",
    "                                                \"functionName\" -> fun._1,\n",
    "                                                \"arguments\" -> fun._2\n",
    "                                            )))\n",
    "    def updateRule(rule: String, fun: (String, Map[String, Any])) = \n",
    "        send(\"PUT\", \"/business/api/v1/predicates/\" + rule, Some(Map(\"functionName\" -> fun._1, \"arguments\" -> fun._2)), false)\n",
    "    def deleteRule(rule: String) = send(\"DELETE\", \"/business/api/v1/predicates/\"+rule)\n",
    "}\n"
   ]
  },
  {
   "cell_type": "code",
   "execution_count": null,
   "metadata": {},
   "outputs": [],
   "source": [
    "val pat = \"\"\n",
    "val url = \"\"\n",
    "val sdk = new SDK(url, pat)"
   ]
  },
  {
   "cell_type": "code",
   "execution_count": null,
   "metadata": {},
   "outputs": [],
   "source": [
    "val allRules = sdk.getRules()"
   ]
  },
  {
   "cell_type": "code",
   "execution_count": null,
   "metadata": {},
   "outputs": [],
   "source": [
    "def dsRules = (sdk.getRulesForDs(\n",
    "    \"logical-data-source-joined_data\",\n",
    "    \"k-2a8a077a91f490348a95cbcb6d524e7c232ee4abe935cc68d25f01ea5980cdac\",\n",
    "    \"k-ddc546028d6968a8b747d2b417d79c6d2ef650911422aa40a3283ea1492e4d57\",\n",
    "    \"workshop\"\n",
    ") \\ \"data\" \\ \"predicates\").asInstanceOf[org.json4s.JArray]\n",
    "dsRules"
   ]
  },
  {
   "cell_type": "code",
   "execution_count": null,
   "metadata": {},
   "outputs": [],
   "source": [
    "val r = dsRules\n",
    "if (r.values.size != 0) {\n",
    "    // delete has issues...\n",
    "    // sdk.deleteRule((r \\\\ \"uuid\").values.toString)\n",
    "}"
   ]
  },
  {
   "cell_type": "code",
   "execution_count": null,
   "metadata": {},
   "outputs": [],
   "source": [
    "dsRules"
   ]
  },
  {
   "cell_type": "code",
   "execution_count": null,
   "metadata": {},
   "outputs": [],
   "source": [
    "sdk.createRule(\n",
    "    \"logical-data-source-joined_data\",\n",
    "    \"k-2a8a077a91f490348a95cbcb6d524e7c232ee4abe935cc68d25f01ea5980cdac\",\n",
    "    \"k-ddc546028d6968a8b747d2b417d79c6d2ef650911422aa40a3283ea1492e4d57\",\n",
    "    \"k-ddb97a5623d591997c7e8b83caa660f2509958106614f2d3e5905d726f1a94d5\",\n",
    "    \"workshop\",\n",
    "    \"price.mean\",\n",
    "    (\"Range\", Map(\"minVal\" -> 0, \"maxVal\" -> 1000))\n",
    ")"
   ]
  },
  {
   "cell_type": "code",
   "execution_count": null,
   "metadata": {},
   "outputs": [],
   "source": [
    "dsRules"
   ]
  },
  {
   "cell_type": "code",
   "execution_count": null,
   "metadata": {},
   "outputs": [],
   "source": [
    "sdk.updateRule(\n",
    "    (dsRules \\\\ \"uuid\").values.toString,\n",
    "    (\"Range\", Map(\"minVal\" -> 100, \"maxVal\" -> 1000))\n",
    ")"
   ]
  },
  {
   "cell_type": "code",
   "execution_count": null,
   "metadata": {},
   "outputs": [],
   "source": [
    "dsRules"
   ]
  }
 ],
 "metadata": {
  "kernelspec": {
   "display_name": "spylon-kernel",
   "language": "scala",
   "name": "spylon-kernel"
  },
  "language_info": {
   "codemirror_mode": "text/x-scala",
   "file_extension": ".scala",
   "help_links": [
    {
     "text": "MetaKernel Magics",
     "url": "https://metakernel.readthedocs.io/en/latest/source/README.html"
    }
   ],
   "mimetype": "text/x-scala",
   "name": "scala",
   "pygments_lexer": "scala",
   "version": "0.4.1"
  }
 },
 "nbformat": 4,
 "nbformat_minor": 5
}
