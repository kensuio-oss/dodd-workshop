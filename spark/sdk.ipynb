{
 "cells": [
  {
   "cell_type": "code",
   "execution_count": 1,
   "id": "884aa7c3",
   "metadata": {},
   "outputs": [],
   "source": [
    "%%init_spark\n",
    "launcher.jars = [\"libs/kensu-dam-spark-collector-0.17.2_spark-3.0.1.jar\",\"libs/sdk_2.12.jar\"]\n",
    "launcher.conf.set(\"spark.sql.shuffle.partitions\", \"1\")"
   ]
  },
  {
   "cell_type": "code",
   "execution_count": 2,
   "id": "111fcdf3-55dd-430f-9534-74b9210e1942",
   "metadata": {},
   "outputs": [
    {
     "data": {
      "text/plain": [
       "Intitializing Scala interpreter ..."
      ]
     },
     "metadata": {},
     "output_type": "display_data"
    },
    {
     "data": {
      "text/plain": [
       "Spark Web UI available at http://jupyter-kensuio-2doss-2ddodd-2dworkshop-2dvk56nn4y:4040\n",
       "SparkContext available as 'sc' (version = 3.0.1, master = local[*], app id = local-1636396480363)\n",
       "SparkSession available as 'spark'\n"
      ]
     },
     "metadata": {},
     "output_type": "display_data"
    },
    {
     "name": "stdout",
     "output_type": "stream",
     "text": [
      "maybeDamFileDebugLevel: Some(INFO)\n",
      "Activating DAM debug logging to file: debug.log\n",
      "Done activating DAM debug logging to a file\n",
      "Creating a new DAM scala client actor-system\n",
      "Done creating a new DAM scala client actor-system.\n"
     ]
    },
    {
     "data": {
      "text/plain": [
       "week: String = week1\n",
       "ch: io.kensu.dodd.sdk.ConnectHelper = io.kensu.dodd.sdk.ConnectHelper@43604e48\n",
       "dataFolder: String = dataTest4\n",
       "sdk: io.kensu.dodd.sdk.SDK = io.kensu.dodd.sdk.SDK@5e722cbe\n"
      ]
     },
     "execution_count": 2,
     "metadata": {},
     "output_type": "execute_result"
    }
   ],
   "source": [
    "val week = \"week1\"\n",
    "implicit val ch = new io.kensu.dodd.sdk.ConnectHelper(s\"./conf/application1-$week.properties\")\n",
    "val dataFolder = \"data\"+ch.properties(\"user_name\").toString\n",
    "io.kensu.sparkcollector.utils.TimeUtils.setMockedTime(ch.properties(\"execution_timestamp\").asInstanceOf[Long], false)\n",
    "io.kensu.sparkcollector.KensuSparkCollector.KensuSparkSession(spark).track(ch.properties.get(\"kensu_ingestion_url\").map(_.toString), None)(ch.properties.toList:_*)\n",
    "val sdk = new io.kensu.dodd.sdk.SDK(ch.properties(\"kensu_api_url\").toString, ch.properties(\"kensu_api_token\").toString)"
   ]
  },
  {
   "cell_type": "code",
   "execution_count": 6,
   "id": "39f60bda-25d0-4d31-b8bd-74d3b0d5f8a9",
   "metadata": {},
   "outputs": [
    {
     "data": {
      "text/plain": [
       "rule: sdk.Rule = (Range,Map(minVal -> 4))\n"
      ]
     },
     "execution_count": 6,
     "metadata": {},
     "output_type": "execute_result"
    }
   ],
   "source": [
    "val rule = sdk.range(Some(4),None)"
   ]
  },
  {
   "cell_type": "code",
   "execution_count": 7,
   "id": "8fa958d9-98cd-4658-aaa5-b0c95419893f",
   "metadata": {},
   "outputs": [],
   "source": [
    "sdk.addRule(\"joined_data\",\"id.nullrows\",rule)"
   ]
  },
  {
   "cell_type": "code",
   "execution_count": null,
   "id": "9d06f31d-e84f-4356-8036-c2dbe2d85317",
   "metadata": {},
   "outputs": [],
   "source": []
  },
  {
   "cell_type": "code",
   "execution_count": null,
   "id": "f2f826d6-9345-474c-af1f-38c23c4b3761",
   "metadata": {},
   "outputs": [],
   "source": []
  }
 ],
 "metadata": {
  "kernelspec": {
   "display_name": "spylon-kernel",
   "language": "scala",
   "name": "spylon-kernel"
  },
  "language_info": {
   "codemirror_mode": "text/x-scala",
   "file_extension": ".scala",
   "help_links": [
    {
     "text": "MetaKernel Magics",
     "url": "https://metakernel.readthedocs.io/en/latest/source/README.html"
    }
   ],
   "mimetype": "text/x-scala",
   "name": "scala",
   "pygments_lexer": "scala",
   "version": "0.4.1"
  }
 },
 "nbformat": 4,
 "nbformat_minor": 5
}
