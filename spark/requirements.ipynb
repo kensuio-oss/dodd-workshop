{
 "cells": [
  {
   "cell_type": "code",
   "execution_count": null,
   "metadata": {},
   "outputs": [],
   "source": [
    "from utils import create_properties_files\n",
    "import shutil\n",
    "\n",
    "\n",
    "trainee_name = \"\"\n",
    "\n",
    "ingestion_url = \"\"\n",
    "ingestion_token = \"\"\n",
    "\n",
    "\n",
    "api_url =  \"\"\n",
    "api_token = \"\"\n",
    "\n",
    "\n",
    "create_properties_files(trainee_name,ingestion_url,ingestion_token,api_token,api_url)\n",
    "shutil.move(\"./data\", \"./data_\"+trainee_name)"
   ]
  }
 ],
 "metadata": {
  "kernelspec": {
   "display_name": "Python 3",
   "language": "python",
   "name": "python3"
  },
  "language_info": {
   "codemirror_mode": {
    "name": "ipython",
    "version": 3
   },
   "file_extension": ".py",
   "mimetype": "text/x-python",
   "name": "python",
   "nbconvert_exporter": "python",
   "pygments_lexer": "ipython3",
   "version": "3.7.6"
  }
 },
 "nbformat": 4,
 "nbformat_minor": 5
}
