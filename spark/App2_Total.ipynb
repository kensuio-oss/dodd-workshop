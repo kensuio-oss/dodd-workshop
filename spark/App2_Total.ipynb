{
 "cells": [
  {
   "cell_type": "markdown",
   "metadata": {},
   "source": [
    "## 1. Kensu initialisation\n",
    "\n",
    "To use the library, you need to add the kensu jar to the spark client\n",
    "\n",
    "Initialize the client with the `properties` file with its `Context`:\n",
    "- `process_name`:  the application name\n",
    "- `project_names`: where the application is running \n",
    "- `environment`: ... well"
   ]
  },
  {
   "cell_type": "code",
   "execution_count": null,
   "metadata": {},
   "outputs": [],
   "source": [
    "%%init_spark\n",
    "launcher.jars = [\"libs/kensu-dam-spark-collector-0.17.2_spark-3.0.1.jar\",\"libs/sdk_2.12.jar\"]\n",
    "launcher.conf.set(\"spark.sql.shuffle.partitions\", \"1\")"
   ]
  },
  {
   "cell_type": "code",
   "execution_count": null,
   "metadata": {},
   "outputs": [],
   "source": [
    "val app = 2\n",
    "val week = 1"
   ]
  },
  {
   "cell_type": "code",
   "execution_count": null,
   "metadata": {},
   "outputs": [],
   "source": [
    "implicit val ch = new io.kensu.dodd.sdk.ConnectHelper(s\"./conf/application${app}-week${week}.properties\")\n",
    "val dataFolder = \"data\"+ch.properties(\"user_name\").toString\n",
    "io.kensu.sparkcollector.utils.TimeUtils.setMockedTime(ch.properties(\"execution_timestamp\").asInstanceOf[Long], false)\n",
    "io.kensu.sparkcollector.KensuSparkCollector.KensuSparkSession(spark).track(ch.properties.get(\"kensu_ingestion_url\").map(_.toString), None)(ch.properties.toList:_*)"
   ]
  },
  {
   "cell_type": "markdown",
   "metadata": {},
   "source": [
    " ## 2. Execution of the pipeline - App 2 : Total\n",
    " \n",
    " This application reads the parquet file created by App1 and computes a KPI : `Total`\n",
    "\n"
   ]
  },
  {
   "cell_type": "code",
   "execution_count": null,
   "metadata": {},
   "outputs": [],
   "source": [
    "val df = spark.read.option(\"inferSchema\",\"true\").option(\"header\",\"true\").load(s\"./data_${ch.properties(\"user_name\")}/week${week}/joined_data\")"
   ]
  },
  {
   "cell_type": "code",
   "execution_count": null,
   "metadata": {},
   "outputs": [],
   "source": [
    "df.show()"
   ]
  },
  {
   "cell_type": "code",
   "execution_count": null,
   "metadata": {},
   "outputs": [],
   "source": [
    "df.createOrReplaceTempView(\"df\")"
   ]
  },
  {
   "cell_type": "code",
   "execution_count": null,
   "metadata": {},
   "outputs": [],
   "source": [
    "val Total_DF = spark.sql(\"SELECT id,price,quantity,round(price * quantity,2) AS total FROM df\")"
   ]
  },
  {
   "cell_type": "code",
   "execution_count": null,
   "metadata": {},
   "outputs": [],
   "source": [
    "Total_DF.show()"
   ]
  },
  {
   "cell_type": "code",
   "execution_count": null,
   "metadata": {},
   "outputs": [],
   "source": [
    "Total_DF.write.mode(\"overwrite\").save(s\"./data_${ch.properties(\"user_name\")}/week${week}/data_total\")"
   ]
  },
  {
   "cell_type": "code",
   "execution_count": null,
   "metadata": {},
   "outputs": [],
   "source": [
    "val sdk = new io.kensu.dodd.sdk.SDK(ch.properties(\"kensu_api_url\").toString, ch.properties(\"kensu_api_token\").toString)\n",
    "\n",
    "val rule = sdk.variability(10,None)\n",
    "\n",
    "sdk.addRule(\"data_total\",\"total.mean\",rule)"
   ]
  }
 ],
 "metadata": {
  "kernelspec": {
   "display_name": "spylon-kernel",
   "language": "scala",
   "name": "spylon-kernel"
  },
  "language_info": {
   "codemirror_mode": "text/x-scala",
   "file_extension": ".scala",
   "help_links": [
    {
     "text": "MetaKernel Magics",
     "url": "https://metakernel.readthedocs.io/en/latest/source/README.html"
    }
   ],
   "mimetype": "text/x-scala",
   "name": "scala",
   "pygments_lexer": "scala",
   "version": "0.4.1"
  }
 },
 "nbformat": 4,
 "nbformat_minor": 5
}
