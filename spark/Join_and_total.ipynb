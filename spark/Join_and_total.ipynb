{
 "cells": [
  {
   "cell_type": "code",
   "execution_count": 1,
   "id": "2c4b2c3d",
   "metadata": {},
   "outputs": [],
   "source": [
    "%%init_spark\n",
    "launcher.jars = [\"libs/kensu-dam-spark-collector-0.17.2_spark-3.0.1.jar\"]\n"
   ]
  },
  {
   "cell_type": "code",
   "execution_count": null,
   "id": "b34e7e02-a917-4c86-b94b-c2bf5a709cd8",
   "metadata": {},
   "outputs": [
    {
     "data": {
      "text/plain": [
       "Intitializing Scala interpreter ..."
      ]
     },
     "metadata": {},
     "output_type": "display_data"
    }
   ],
   "source": [
    "val week = \"week1\""
   ]
  },
  {
   "cell_type": "code",
   "execution_count": null,
   "id": "5467922b",
   "metadata": {},
   "outputs": [],
   "source": [
    "val df_customer = spark.read.option(\"inferSchema\",\"true\").option(\"header\",\"true\").csv(s\"./data/${week}/custinfo.csv\")"
   ]
  },
  {
   "cell_type": "code",
   "execution_count": null,
   "id": "7045a05a",
   "metadata": {},
   "outputs": [],
   "source": [
    "val df_transaction = spark.read.option(\"inferSchema\",\"true\").option(\"header\",\"true\").csv(s\"./data/${week}/transactions.csv\")"
   ]
  },
  {
   "cell_type": "code",
   "execution_count": null,
   "id": "e2982259",
   "metadata": {},
   "outputs": [],
   "source": [
    "val df_join = df_customer.join(df_transaction, df_customer(\"id\") === df_transaction(\"id\"),\"inner\").drop(df_transaction(\"id\"))"
   ]
  },
  {
   "cell_type": "code",
   "execution_count": null,
   "id": "819b9495",
   "metadata": {},
   "outputs": [],
   "source": [
    "df_join.count()"
   ]
  },
  {
   "cell_type": "code",
   "execution_count": null,
   "id": "8cb646bd",
   "metadata": {},
   "outputs": [],
   "source": [
    "df_join.write.mode(\"overwrite\").save(s\"./data/${week}/joined_data\")"
   ]
  },
  {
   "cell_type": "code",
   "execution_count": null,
   "id": "2f52fca6",
   "metadata": {},
   "outputs": [],
   "source": [
    "val df = spark.read.option(\"inferSchema\",\"true\").option(\"header\",\"true\").load(s\"./data/${week}/joined_data\")"
   ]
  },
  {
   "cell_type": "code",
   "execution_count": null,
   "id": "7e5fa060",
   "metadata": {},
   "outputs": [],
   "source": [
    "df.show()"
   ]
  },
  {
   "cell_type": "code",
   "execution_count": null,
   "id": "8f57f330",
   "metadata": {},
   "outputs": [],
   "source": [
    "df.createOrReplaceTempView(\"df\")"
   ]
  },
  {
   "cell_type": "code",
   "execution_count": null,
   "id": "c10a00d5",
   "metadata": {},
   "outputs": [],
   "source": [
    "val Total_DF = spark.sql(\"SELECT id,price,quantity,round(price * quantity,2) AS total FROM df\")"
   ]
  },
  {
   "cell_type": "code",
   "execution_count": null,
   "id": "d9badac9-c043-4c0d-8cb9-8a4d107290c5",
   "metadata": {},
   "outputs": [],
   "source": [
    "Total_DF.show()"
   ]
  },
  {
   "cell_type": "code",
   "execution_count": null,
   "id": "dc56e940",
   "metadata": {},
   "outputs": [],
   "source": [
    "Total_DF.write.mode(\"overwrite\").save(s\"./data/${week}/data_total\")"
   ]
  },
  {
   "cell_type": "code",
   "execution_count": null,
   "id": "23452d2e-738a-49a0-b747-98cedacc177b",
   "metadata": {},
   "outputs": [],
   "source": []
  }
 ],
 "metadata": {
  "kernelspec": {
   "display_name": "spylon-kernel",
   "language": "scala",
   "name": "spylon-kernel"
  },
  "language_info": {
   "codemirror_mode": "text/x-scala",
   "file_extension": ".scala",
   "help_links": [
    {
     "text": "MetaKernel Magics",
     "url": "https://metakernel.readthedocs.io/en/latest/source/README.html"
    }
   ],
   "mimetype": "text/x-scala",
   "name": "scala",
   "pygments_lexer": "scala",
   "version": "0.4.1"
  }
 },
 "nbformat": 4,
 "nbformat_minor": 5
}
