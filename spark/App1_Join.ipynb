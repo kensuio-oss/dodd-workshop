{
 "cells": [
  {
   "cell_type": "markdown",
   "metadata": {},
   "source": [
    "## 1. Kensu initialisation\n",
    "\n",
    "To use the library, you need to add the kensu jar to the spark client\n",
    "\n",
    "Initialize the client with the `KensuProvider` object with its `Context`:\n",
    "- `process_name`:  the application name\n",
    "- `project_names`: where the application is running \n",
    "- `environment`: ... well"
   ]
  },
  {
   "cell_type": "code",
   "execution_count": 1,
   "metadata": {},
   "outputs": [],
   "source": [
    "%%init_spark\n",
    "launcher.jars = [\"libs/kensu-dam-spark-collector-0.17.2_spark-3.0.1.jar\",\"libs/sdk_2.12.jar\"]\n",
    "launcher.conf.set(\"spark.sql.shuffle.partitions\", \"1\")"
   ]
  },
  {
   "cell_type": "code",
   "execution_count": 2,
   "metadata": {},
   "outputs": [
    {
     "data": {
      "text/plain": [
       "Intitializing Scala interpreter ..."
      ]
     },
     "metadata": {},
     "output_type": "display_data"
    },
    {
     "data": {
      "text/plain": [
       "Spark Web UI available at http://jupyter-kensuio-2doss-2ddodd-2dworkshop-2dr10bzxei:4040\n",
       "SparkContext available as 'sc' (version = 3.0.1, master = local[*], app id = local-1636438800758)\n",
       "SparkSession available as 'spark'\n"
      ]
     },
     "metadata": {},
     "output_type": "display_data"
    },
    {
     "data": {
      "text/plain": [
       "app: Int = 1\n",
       "week: Int = 1\n"
      ]
     },
     "execution_count": 2,
     "metadata": {},
     "output_type": "execute_result"
    }
   ],
   "source": [
    "val app = 1\n",
    "val week = 1"
   ]
  },
  {
   "cell_type": "code",
   "execution_count": 3,
   "metadata": {},
   "outputs": [
    {
     "name": "stdout",
     "output_type": "stream",
     "text": [
      "maybeDamFileDebugLevel: Some(INFO)\n",
      "Activating DAM debug logging to file: debug.log\n",
      "Done activating DAM debug logging to a file\n",
      "Creating a new DAM scala client actor-system\n",
      "Done creating a new DAM scala client actor-system.\n"
     ]
    },
    {
     "data": {
      "text/plain": [
       "ch: io.kensu.dodd.sdk.ConnectHelper = io.kensu.dodd.sdk.ConnectHelper@53517333\n",
       "dataFolder: String = datamyname\n",
       "res0: org.apache.spark.sql.SparkSession = org.apache.spark.sql.SparkSession@b9c5fc9\n"
      ]
     },
     "execution_count": 3,
     "metadata": {},
     "output_type": "execute_result"
    }
   ],
   "source": [
    "implicit val ch = new io.kensu.dodd.sdk.ConnectHelper(s\"./conf/application${app}-week${week}.properties\")\n",
    "val dataFolder = \"data\"+ch.properties(\"dam.activity.user\").toString\n",
    "io.kensu.third.integration.TimeUtils.setMockedTime(ch.properties(\"mocked.timestamp\").asInstanceOf[Long], false)\n",
    "io.kensu.dam.lineage.spark.lineage.Implicits.SparkSessionDAMWrapper(spark).track(ch.properties.get(\"dam.ingestion.url\").map(_.toString), None)(ch.properties.toList:_*)"
   ]
  },
  {
   "cell_type": "markdown",
   "metadata": {},
   "source": [
    " ## 2. Execution of the pipeline - App 1 : Join\n",
    " \n",
    " This application is joining datasource `customer` and `transaction`\n"
   ]
  },
  {
   "cell_type": "code",
   "execution_count": 5,
   "metadata": {},
   "outputs": [
    {
     "data": {
      "text/plain": [
       "df_customer: org.apache.spark.sql.DataFrame = [id: int, first_name: string ... 3 more fields]\n"
      ]
     },
     "execution_count": 5,
     "metadata": {},
     "output_type": "execute_result"
    }
   ],
   "source": [
    "val df_customer = spark.read.option(\"inferSchema\",\"true\").option(\"header\",\"true\").load(s\"./data_${ch.properties(\"dam.activity.user\")}/week${week}/custinfo\")"
   ]
  },
  {
   "cell_type": "code",
   "execution_count": 6,
   "metadata": {},
   "outputs": [
    {
     "data": {
      "text/plain": [
       "df_transaction: org.apache.spark.sql.DataFrame = [id: int, date: double ... 3 more fields]\n"
      ]
     },
     "execution_count": 6,
     "metadata": {},
     "output_type": "execute_result"
    }
   ],
   "source": [
    "val df_transaction = spark.read.option(\"inferSchema\",\"true\").option(\"header\",\"true\").load(s\"./data_${ch.properties(\"dam.activity.user\")}/week${week}/transactions\")"
   ]
  },
  {
   "cell_type": "code",
   "execution_count": 7,
   "metadata": {},
   "outputs": [
    {
     "data": {
      "text/plain": [
       "df_join: org.apache.spark.sql.DataFrame = [id: int, first_name: string ... 7 more fields]\n"
      ]
     },
     "execution_count": 7,
     "metadata": {},
     "output_type": "execute_result"
    }
   ],
   "source": [
    "val df_join = df_customer.join(df_transaction, df_customer(\"id\") === df_transaction(\"id\"),\"inner\").drop(df_transaction(\"id\"))"
   ]
  },
  {
   "cell_type": "code",
   "execution_count": 8,
   "metadata": {},
   "outputs": [
    {
     "data": {
      "text/plain": [
       "res1: Long = 1000\n"
      ]
     },
     "execution_count": 8,
     "metadata": {},
     "output_type": "execute_result"
    }
   ],
   "source": [
    "df_join.count()"
   ]
  },
  {
   "cell_type": "code",
   "execution_count": 9,
   "metadata": {},
   "outputs": [
    {
     "data": {
      "text/plain": [
       "sdk: io.kensu.dodd.sdk.SDK = io.kensu.dodd.sdk.SDK@4884e416\n"
      ]
     },
     "execution_count": 9,
     "metadata": {},
     "output_type": "execute_result"
    }
   ],
   "source": [
    "val sdk = new io.kensu.dodd.sdk.SDK(ch.properties(\"kensu.sdk.url\").toString, ch.properties(\"kensu.pat\").toString)"
   ]
  },
  {
   "cell_type": "code",
   "execution_count": null,
   "metadata": {},
   "outputs": [],
   "source": [
    "val rule = sdk.range(max=Some(0))\n",
    "\n",
    "sdk.range(\"custinfo\",\"id.nullrows\",rule)\n",
    "sdk.range(\"transactions\",\"id.nullrows\",rule)"
   ]
  },
  {
   "cell_type": "code",
   "execution_count": null,
   "metadata": {},
   "outputs": [],
   "source": [
    "df_join.write.mode(\"overwrite\").save(s\"./data_${properties(\"dam.activity.user\")}/week${week}/joined_data\")"
   ]
  }
 ],
 "metadata": {
  "kernelspec": {
   "display_name": "spylon-kernel",
   "language": "scala",
   "name": "spylon-kernel"
  },
  "language_info": {
   "codemirror_mode": "text/x-scala",
   "file_extension": ".scala",
   "help_links": [
    {
     "text": "MetaKernel Magics",
     "url": "https://metakernel.readthedocs.io/en/latest/source/README.html"
    }
   ],
   "mimetype": "text/x-scala",
   "name": "scala",
   "pygments_lexer": "scala",
   "version": "0.4.1"
  }
 },
 "nbformat": 4,
 "nbformat_minor": 5
}
