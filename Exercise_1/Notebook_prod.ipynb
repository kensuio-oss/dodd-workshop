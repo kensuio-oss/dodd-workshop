{
 "cells": [
  {
   "cell_type": "code",
   "execution_count": null,
   "metadata": {},
   "outputs": [],
   "source": [
    "import urllib3\n",
    "urllib3.disable_warnings()\n",
    "\n",
    "import pandas as pd"
   ]
  },
  {
   "cell_type": "code",
   "execution_count": null,
   "metadata": {},
   "outputs": [],
   "source": [
    "data = pd.read_csv('data/rawdata/jan/customer.csv')"
   ]
  },
  {
   "cell_type": "code",
   "execution_count": null,
   "metadata": {},
   "outputs": [],
   "source": [
    "columns_to_remove = ['Gender','First_name','Last_name','Nationality']"
   ]
  },
  {
   "cell_type": "code",
   "execution_count": null,
   "metadata": {},
   "outputs": [],
   "source": [
    "data_to_save = data.drop(columns_to_remove,axis=1)\n",
    "data_to_save['Credit_History'] = data_to_save['Credit_History'] - data_to_save['Credit_History'] "
   ]
  },
  {
   "cell_type": "code",
   "execution_count": null,
   "metadata": {},
   "outputs": [],
   "source": [
    "data_to_save.to_csv('data/datalake/jan/customer_prod.csv',index=False)"
   ]
  },
  {
   "cell_type": "code",
   "execution_count": null,
   "metadata": {},
   "outputs": [],
   "source": [
    "k = KensuProvider().initKensu(api_url=ingestion_url, auth_token=ingestion_token, process_name= process,\n",
    "                            user_name= user, code_location='https://gitlab.example.com',\n",
    "                            project_names=[project], environment= env, pandas_support=True, sklearn_support=False,\n",
    "                                tensorflow_support=False, bigquery_support=False,pyspark_support=False,logical_naming = 'File',allow_reinit = True)\n",
    "\n",
    "\n",
    "\n",
    "data = pd.read_csv('data/rawdata/feb/customer.csv')\n",
    "v= set(data.columns)\n",
    "columns_to_remove = ['Gender','First_name','Last_name','Nationality']\n",
    "data_to_save = data.drop(columns_to_remove,axis=1)\n",
    "data_to_save.to_csv('data/datalake/feb/customer_prod.csv',index=False)"
   ]
  }
 ],
 "metadata": {
  "kernelspec": {
   "display_name": "Python 3",
   "language": "python",
   "name": "python3"
  },
  "language_info": {
   "codemirror_mode": {
    "name": "ipython",
    "version": 3
   },
   "file_extension": ".py",
   "mimetype": "text/x-python",
   "name": "python",
   "nbconvert_exporter": "python",
   "pygments_lexer": "ipython3",
   "version": "3.7.6"
  }
 },
 "nbformat": 4,
 "nbformat_minor": 4
}
